{
 "cells": [
  {
   "cell_type": "code",
   "execution_count": 1,
   "metadata": {
    "colab": {
     "base_uri": "https://localhost:8080/"
    },
    "id": "2q0trx_maVWC",
    "outputId": "797af7f3-b01b-4244-bee6-207a307beba8"
   },
   "outputs": [
    {
     "name": "stderr",
     "output_type": "stream",
     "text": [
      "Cloning into 'Segmentation-of-Teeth-in-Panoramic-X-ray-Image'...\n"
     ]
    }
   ],
   "source": [
    "# !git clone https://github.com/ImagingYeditepe/Segmentation-of-Teeth-in-Panoramic-X-ray-Image.git\n",
    "\n",
    "# These codes are just demo . Not include all paper . "
   ]
  },
  {
   "cell_type": "code",
   "source": [
    "# from google.colab import drive\n",
    "# drive.mount('/content/drive')"
   ],
   "metadata": {
    "colab": {
     "base_uri": "https://localhost:8080/"
    },
    "id": "cRHoL4Fr8VCM",
    "outputId": "9ae8152c-3e44-453a-9cad-641f9761ece9"
   },
   "execution_count": 2,
   "outputs": [
    {
     "ename": "ModuleNotFoundError",
     "evalue": "No module named 'google.colab'",
     "output_type": "error",
     "traceback": [
      "\u001B[1;31m---------------------------------------------------------------------------\u001B[0m",
      "\u001B[1;31mModuleNotFoundError\u001B[0m                       Traceback (most recent call last)",
      "Cell \u001B[1;32mIn [2], line 1\u001B[0m\n\u001B[1;32m----> 1\u001B[0m \u001B[38;5;28;01mfrom\u001B[39;00m \u001B[38;5;21;01mgoogle\u001B[39;00m\u001B[38;5;21;01m.\u001B[39;00m\u001B[38;5;21;01mcolab\u001B[39;00m \u001B[38;5;28;01mimport\u001B[39;00m drive\n\u001B[0;32m      2\u001B[0m drive\u001B[38;5;241m.\u001B[39mmount(\u001B[38;5;124m'\u001B[39m\u001B[38;5;124m/content/drive\u001B[39m\u001B[38;5;124m'\u001B[39m)\n",
      "\u001B[1;31mModuleNotFoundError\u001B[0m: No module named 'google.colab'"
     ]
    }
   ]
  },
  {
   "cell_type": "markdown",
   "source": [],
   "metadata": {
    "collapsed": false
   }
  },
  {
   "cell_type": "code",
   "source": [
    "#take a look at the kind of GPU we have\n",
    "# !nvidia-smi"
   ],
   "metadata": {
    "colab": {
     "base_uri": "https://localhost:8080/"
    },
    "id": "8s-QXktzMqYj",
    "outputId": "c2cb4b91-ea4c-42df-e3bb-6a5c288d91f9"
   },
   "execution_count": null,
   "outputs": []
  },
  {
   "cell_type": "code",
   "execution_count": null,
   "metadata": {
    "id": "iA9QvSPRaoyl"
   },
   "outputs": [],
   "source": [
    "# import sys\n",
    "# sys.path.append(\"/content/Segmentation-of-Teeth-in-Panoramic-X-ray-Image\")"
   ]
  },
  {
   "cell_type": "code",
   "execution_count": null,
   "metadata": {
    "colab": {
     "base_uri": "https://localhost:8080/"
    },
    "id": "XHQVdoWgasOt",
    "outputId": "f8ec93db-3373-490c-d42f-d73e0fddf36b"
   },
   "outputs": [],
   "source": [
    "# %cd /content/Segmentation-of-Teeth-in-Panoramic-X-ray-Image\n",
    "#!pip install -qr requirements.txt\n",
    "#You can  use pip install however colab includes all libraries so we dont need them"
   ]
  },
  {
   "cell_type": "code",
   "execution_count": null,
   "metadata": {
    "id": "xbMrX9M-a8yo",
    "colab": {
     "base_uri": "https://localhost:8080/"
    },
    "outputId": "b40000ca-22a2-4f7b-9c5b-4a525c7ef978"
   },
   "outputs": [],
   "source": [
    "from download_dataset import *\n",
    "import os\n",
    "path = \"/content/Data\"\n",
    "if os.path.exists(path+'/DentalPanoramicXrays.zip') == False:\n",
    "  os.mkdir(path)\n",
    "  download_dataset(path+'/')"
   ]
  },
  {
   "cell_type": "code",
   "execution_count": null,
   "metadata": {
    "id": "99AXW80lbq5x"
   },
   "outputs": [],
   "source": [
    "from images_prepare import *\n",
    "#pre_images(resize_shape,path,include_zip)\n",
    "X,X_sizes=pre_images((512,512),path,True)"
   ]
  },
  {
   "cell_type": "code",
   "execution_count": null,
   "metadata": {
    "id": "i2XK9tRae0aB"
   },
   "outputs": [],
   "source": [
    "from masks_prepare import *\n",
    "#Y=pre_masks(resize_shape=(512,512),path='/content/Segmentation-of-Teeth-in-Panoramic-X-ray-Image/Original_Masks')  ORIGINALL MASKS function \n",
    "Y=pre_splitted_masks(path='/content/Segmentation-of-Teeth-in-Panoramic-X-ray-Image/Custom_Masks') #Custom Splitted MASKS size 512x512\n"
   ]
  },
  {
   "cell_type": "code",
   "execution_count": null,
   "metadata": {
    "id": "ffmjMk3CgH7x"
   },
   "outputs": [],
   "source": [
    "X=np.float32(X/255)\n",
    "Y=np.float32(Y/255)"
   ]
  },
  {
   "cell_type": "code",
   "execution_count": null,
   "metadata": {
    "id": "jksAk94Qff5H"
   },
   "outputs": [],
   "source": [
    "x_train=X[:105,:,:,:]\n",
    "y_train=Y[:105,:,:,:]\n",
    "x_test=X[105:,:,:,:]\n",
    "y_test=Y[105:,:,:,:]"
   ]
  },
  {
   "cell_type": "code",
   "source": [
    "!pip install -U git+https://github.com/albu/albumentations --no-cache-dir\n"
   ],
   "metadata": {
    "colab": {
     "base_uri": "https://localhost:8080/"
    },
    "id": "dxsJYnk8KeyF",
    "outputId": "c54696f5-009e-438c-f73e-1abbae82e95d"
   },
   "execution_count": null,
   "outputs": []
  },
  {
   "cell_type": "code",
   "source": [
    "!pip uninstall opencv-python-headless==4.5.5.62"
   ],
   "metadata": {
    "colab": {
     "base_uri": "https://localhost:8080/"
    },
    "id": "ikRkaJ1QM7GF",
    "outputId": "5e78ee19-1114-4f6b-8ef2-938753adf118"
   },
   "execution_count": null,
   "outputs": []
  },
  {
   "cell_type": "code",
   "source": [
    "!pip install opencv-python-headless==4.5.2.52"
   ],
   "metadata": {
    "colab": {
     "base_uri": "https://localhost:8080/"
    },
    "id": "ZLsLeCFQM8n6",
    "outputId": "e9b8f17d-d87b-4a57-ccea-86a60ae99d5a"
   },
   "execution_count": null,
   "outputs": []
  },
  {
   "cell_type": "code",
   "source": [
    "import cv2\n",
    "\n",
    "import albumentations as A\n",
    "#Augmention . Change what you want ! Care about Your GPU and CPU RAM\n",
    "\n",
    "#If you get error : cannot import name '_registerMatType' from 'cv2.cv2' :\n",
    "#!pip uninstall opencv-python-headless==4.5.5.62\n",
    "#!pip install opencv-python-headless==4.5.2.52\n",
    "\n",
    "aug = A.Compose([\n",
    "    A.OneOf([A.RandomCrop(width=512, height=512),\n",
    "                 A.PadIfNeeded(min_height=512, min_width=512, p=0.5)],p=0.4),\n",
    "    A.RandomBrightnessContrast(brightness_limit=0.25, contrast_limit=0.25,p=0.5),\n",
    "    A.Compose([A.RandomScale(scale_limit=(-0.15, 0.15), p=1, interpolation=1),\n",
    "                            A.PadIfNeeded(512, 512, border_mode=cv2.BORDER_CONSTANT), \n",
    "                            A.Resize(512, 512, cv2.INTER_NEAREST), ],p=0.5),\n",
    "    A.ShiftScaleRotate (shift_limit=0.325, scale_limit=0.15, rotate_limit=15,border_mode=cv2.BORDER_CONSTANT, p=1),\n",
    "    A.Rotate(15,p=0.5),\n",
    "    A.Blur(blur_limit=1, p=0.5),\n",
    "    A.Downscale(scale_min=0.15, scale_max=0.25,  always_apply=False, p=0.5),\n",
    "    A.GaussNoise(var_limit=(0.05, 0.1), mean=0, per_channel=True, always_apply=False, p=0.5),\n",
    "    A.HorizontalFlip(p=0.25),\n",
    "])\n",
    "\n",
    "x_train1=np.copy(x_train)\n",
    "y_train1=np.copy(y_train)\n",
    "count=0\n",
    "while(count<4):\n",
    "  x_aug2=np.copy(x_train1)\n",
    "  y_aug2=np.copy(y_train1)\n",
    "  for i in range(len(x_train1)):\n",
    "    augmented=aug(image=x_train1[i,:,:,:],mask=y_train1[i,:,:,:])\n",
    "    x_aug2[i,:,:,:]= augmented['image']\n",
    "    y_aug2[i,:,:,:]= augmented['mask']\n",
    "  x_train=np.concatenate((x_train,x_aug2))\n",
    "  y_train=np.concatenate((y_train,y_aug2))\n",
    "  if count == 9:\n",
    "    break\n",
    "  count += 1"
   ],
   "metadata": {
    "id": "YDBWu26hKxeC"
   },
   "execution_count": null,
   "outputs": []
  },
  {
   "cell_type": "code",
   "source": [
    "#For Relase unneccasery memory\n",
    "del x_aug2\n",
    "del X\n",
    "del Y\n",
    "del y_aug2\n",
    "del y_train1\n",
    "del x_train1\n",
    "del augmented"
   ],
   "metadata": {
    "id": "OH0_Yr0gK8v9"
   },
   "execution_count": null,
   "outputs": []
  },
  {
   "cell_type": "code",
   "execution_count": null,
   "metadata": {
    "colab": {
     "base_uri": "https://localhost:8080/"
    },
    "id": "0jgPe5kghqTY",
    "outputId": "4c70ddd2-c86d-4f61-e909-c1f99067733e"
   },
   "outputs": [],
   "source": [
    "import random\n",
    "import matplotlib.pyplot as plt\n",
    "random_number=random.randint(0,104)\n",
    "print(random_number)"
   ]
  },
  {
   "cell_type": "code",
   "execution_count": null,
   "metadata": {
    "colab": {
     "base_uri": "https://localhost:8080/",
     "height": 287
    },
    "id": "i6VRr3PqiYer",
    "outputId": "67f36644-7577-4105-a3d3-c5226db6cebe"
   },
   "outputs": [],
   "source": [
    "#Checking data X  and Y matching\n",
    "plt.imshow(x_train[random_number,:,:,0])"
   ]
  },
  {
   "cell_type": "code",
   "execution_count": null,
   "metadata": {
    "colab": {
     "base_uri": "https://localhost:8080/",
     "height": 287
    },
    "id": "2UAS_KRpiVcI",
    "outputId": "4922be02-de8b-4b1c-c4f4-c10db1a8e1bd"
   },
   "outputs": [],
   "source": [
    "#Checking data X  and Y matching\n",
    "plt.imshow(y_train[random_number,:,:,0])"
   ]
  },
  {
   "cell_type": "markdown",
   "metadata": {
    "id": "qfww5_xq9Cvj"
   },
   "source": []
  },
  {
   "cell_type": "code",
   "execution_count": null,
   "metadata": {
    "colab": {
     "base_uri": "https://localhost:8080/"
    },
    "id": "auoBTcKYfPDn",
    "outputId": "8830ce12-f359-46eb-c6ad-f952a591c8e3"
   },
   "outputs": [],
   "source": [
    "from model import *\n",
    "model=UNET(input_shape=(512,512,1),last_activation='sigmoid')\n",
    "model.summary()"
   ]
  },
  {
   "cell_type": "code",
   "execution_count": null,
   "metadata": {
    "colab": {
     "base_uri": "https://localhost:8080/"
    },
    "id": "JwOR2Z3CgfCO",
    "outputId": "32491f7b-0c75-41ed-bc38-d05f5f816100"
   },
   "outputs": [],
   "source": [
    "model.compile(optimizer ='adam', loss = 'binary_crossentropy', metrics = ['accuracy'])\n",
    "#Your choice batch and epoch \n",
    "model.fit(x_train,y_train,batch_size=8,epochs=200,verbose=1)"
   ]
  },
  {
   "cell_type": "code",
   "execution_count": null,
   "metadata": {
    "id": "ED-TTndSpqTS"
   },
   "outputs": [],
   "source": [
    "predict_img=model.predict(x_test)\n",
    "##model.save(path)\n",
    "predict=predict_img[1,:,:,0] "
   ]
  },
  {
   "cell_type": "code",
   "source": [
    "#Example Test\n",
    "from sklearn.metrics import f1_score\n",
    "import numpy as np\n",
    "predict_img1=(predict_img>0.25)*1\n",
    "y_test1=(y_test>0.25)*1\n",
    "\n",
    "f1_score(predict_img1.flatten(), y_test1.flatten(), average='micro')"
   ],
   "metadata": {
    "colab": {
     "base_uri": "https://localhost:8080/"
    },
    "id": "OqTbGzoWMgXv",
    "outputId": "624334b2-a7ae-42ad-d495-266bc0bf244b"
   },
   "execution_count": null,
   "outputs": []
  },
  {
   "cell_type": "code",
   "execution_count": null,
   "metadata": {
    "colab": {
     "base_uri": "https://localhost:8080/",
     "height": 632
    },
    "id": "t87502-CAW_z",
    "outputId": "ae4a5596-0c5f-419d-e20a-74573bab1a5a"
   },
   "outputs": [],
   "source": [
    "\n",
    "plt.figure(figsize = (20,10))\n",
    "plt.title(\"Predict Mask\",fontsize = 40)\n",
    "plt.imshow(predict)\n",
    "#For CCA, we saved\n",
    "plt.imsave(\"/content/predict.png\",predict)"
   ]
  },
  {
   "cell_type": "code",
   "execution_count": null,
   "metadata": {
    "colab": {
     "base_uri": "https://localhost:8080/",
     "height": 676
    },
    "id": "APk5eCF-py_e",
    "outputId": "6d058ea1-ec9b-4f28-fd44-2f4966a296e7"
   },
   "outputs": [],
   "source": [
    "from google.colab.patches import cv2_imshow\n",
    "import cv2\n",
    "from CCA_Analysis import *\n",
    "\n",
    "\n",
    "##Plotting - RESULT Example\n",
    "img=cv2.imread(\"/content/Data/Images/107.png\")#original img 107.png \n",
    "\n",
    "predict1 = cv2.resize(predict, (img.shape[1],img.shape[0]), interpolation=cv2.INTER_LANCZOS4)\n",
    "\n",
    "mask=np.uint8(predict1*255)# \n",
    "_, mask = cv2.threshold(mask, thresh=255/2, maxval=255, type=cv2.THRESH_BINARY)\n",
    "cnts,hieararch=cv2.findContours(mask,cv2.RETR_TREE,cv2.CHAIN_APPROX_SIMPLE)\n",
    "img = cv2.drawContours(img[:,:,0], cnts, -1, (255, 0, 0) , 2)\n",
    "img = cv2.UMat.get(img)\n",
    "cv2_imshow(img)"
   ]
  },
  {
   "cell_type": "code",
   "execution_count": null,
   "metadata": {
    "colab": {
     "base_uri": "https://localhost:8080/",
     "height": 676
    },
    "id": "_Hd3dPiAORu0",
    "outputId": "400e30ab-ef2a-40a0-ff43-186f3f87cfa8"
   },
   "outputs": [],
   "source": [
    "from google.colab.patches import cv2_imshow\n",
    "import cv2\n",
    "from CCA_Analysis import *\n",
    "\n",
    "\n",
    "##Plotting - RESULT Example with CCA_Analysis\n",
    "img=cv2.imread(\"/content/Data/Images/107.png\")#original img 107.png \n",
    "\n",
    "#load image (mask was saved by matplotlib.pyplot) \n",
    "predicted=cv2.imread(\"/content/predict.png\")\n",
    "\n",
    "predicted = cv2.resize(predicted, (img.shape[1],img.shape[0]), interpolation=cv2.INTER_LANCZOS4)\n",
    "\n",
    "cca_result,teeth_count=CCA_Analysis(img,predicted,3,2)\n",
    "cv2_imshow(cca_result)"
   ]
  },
  {
   "cell_type": "markdown",
   "source": [],
   "metadata": {
    "collapsed": false
   }
  },
  {
   "cell_type": "markdown",
   "source": [],
   "metadata": {
    "collapsed": false
   }
  },
  {
   "cell_type": "code",
   "execution_count": null,
   "metadata": {
    "colab": {
     "base_uri": "https://localhost:8080/"
    },
    "id": "ttcMoNMcN95u",
    "outputId": "51886434-6216-4de1-fe97-44d86ef826d5"
   },
   "outputs": [],
   "source": [
    "print(teeth_count,\"Teeth Count\")"
   ]
  },
  {
   "cell_type": "code",
   "source": [
    "import tensorflow as tf\n",
    "tf.keras.models.save_model(model, '/content/drive/MyDrive/dental_xray_seg.h5')"
   ],
   "metadata": {
    "id": "ZwhjX4RN8L9e"
   },
   "execution_count": null,
   "outputs": []
  }
 ],
 "metadata": {
  "accelerator": "GPU",
  "colab": {
   "collapsed_sections": [],
   "name": "Main.ipynb",
   "provenance": [],
   "machine_shape": "hm"
  },
  "kernelspec": {
   "display_name": "Python 3",
   "language": "python",
   "name": "python3"
  },
  "language_info": {
   "codemirror_mode": {
    "name": "ipython",
    "version": 3
   },
   "file_extension": ".py",
   "mimetype": "text/x-python",
   "name": "python",
   "nbconvert_exporter": "python",
   "pygments_lexer": "ipython3",
   "version": "3.8.5"
  }
 },
 "nbformat": 4,
 "nbformat_minor": 0
}
